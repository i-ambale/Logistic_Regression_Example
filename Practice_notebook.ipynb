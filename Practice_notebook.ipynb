{
 "cells": [
  {
   "cell_type": "markdown",
   "metadata": {},
   "source": [
    "The several uses of the 're' module\n",
    "The import re statement in Python is used to import the re module, which stands for \"regular expressions.\" Regular expressions are a powerful tool for matching patterns in strings. They allow you to specify a set of strings that match a given pattern, enabling you to perform various string manipulation tasks such as searching, splitting, and replacing text based on specific patterns.\n",
    "\n",
    "The following are some of the common uses of the re module in our case; \n",
    "1).re.search(): Searches the string for a match to the pattern, returning a match object if found, or None if no match is found.\n",
    "2).re.match(): Determines if the regular expression matches at the beginning of the string.\n",
    "3).re.compile(): Compiles a regular expression pattern into a regular expression object, which can be used for matching using its match() and search() methods\n",
    "\n",
    "\n",
    "The code cell below demostrate a simple use of the same.\n"
   ]
  },
  {
   "cell_type": "code",
   "execution_count": 2,
   "metadata": {},
   "outputs": [
    {
     "name": "stdout",
     "output_type": "stream",
     "text": [
      "Match found: Parsanka\n"
     ]
    }
   ],
   "source": [
    "import re\n",
    "\n",
    "# Search for the pattern 'Parsanka' in the string 'Cake and cookie'\n",
    "pattern = \"Parsanka\"\n",
    "sequence = \"Isaac and Parsanka\"\n",
    "match = re.search(pattern, sequence)\n",
    "\n",
    "if match:\n",
    "    print(\"Match found:\", match.group())\n",
    "else:\n",
    "    print(\"No match found.\")\n",
    "\n",
    "## In this example, we are trying to search the pattern 'Parsanka' from the string 'Isaac and Parsanka'"
   ]
  },
  {
   "cell_type": "code",
   "execution_count": 4,
   "metadata": {},
   "outputs": [
    {
     "data": {
      "text/plain": [
       "<Axes: >"
      ]
     },
     "execution_count": 4,
     "metadata": {},
     "output_type": "execute_result"
    },
    {
     "data": {
      "image/png": "[encoded data removed]",
      "text/plain": [
       "<Figure size 640x480 with 1 Axes>"
      ]
     },
     "metadata": {},
     "output_type": "display_data"
    }
   ],
   "source": [
    "import seaborn as sns\n",
    "sns.set_theme(style=\"whitegrid\", palette=\"pastel\")\n",
    "sns.barplot(x=[\"A\", \"B\", \"C\"], y=[1, 3, 2])\n"
   ]
  },
  {
   "cell_type": "code",
   "execution_count": 5,
   "metadata": {},
   "outputs": [
    {
     "data": {
      "text/plain": [
       "<Axes: >"
      ]
     },
     "execution_count": 5,
     "metadata": {},
     "output_type": "execute_result"
    },
    {
     "data": {
      "image/png": "[encoded data removed]",
      "text/plain": [
       "<Figure size 640x480 with 1 Axes>"
      ]
     },
     "metadata": {},
     "output_type": "display_data"
    }
   ],
   "source": [
    "custom_params = {\"axes.spines.right\": False, \"axes.spines.top\": False}\n",
    "sns.set_theme(style=\"ticks\", rc=custom_params)\n",
    "sns.barplot(x=[\"A\", \"B\", \"C\"], y=[1, 3, 2])\n"
   ]
  },
  {
   "cell_type": "code",
   "execution_count": 6,
   "metadata": {},
   "outputs": [
    {
     "name": "stdout",
     "output_type": "stream",
     "text": [
      "Feature names: ['blue' 'bright' 'can' 'in' 'is' 'see' 'shining' 'sky' 'sun' 'the' 'today'\n",
      " 'we']\n",
      "Document vectors: [[1 0 0 0 1 0 0 1 0 1 0 0]\n",
      " [0 1 0 0 1 0 0 0 1 1 1 0]\n",
      " [0 1 0 1 1 0 0 1 1 2 0 0]\n",
      " [0 1 1 0 0 1 1 0 2 2 0 1]]\n"
     ]
    }
   ],
   "source": [
    "from sklearn.feature_extraction.text import CountVectorizer\n",
    "\n",
    "# Sample documents\n",
    "documents = [\n",
    "    \"The sky is blue.\",\n",
    "    \"The sun is bright today.\",\n",
    "    \"The sun in the sky is bright.\",\n",
    "    \"We can see the shining sun, the bright sun.\"\n",
    "]\n",
    "\n",
    "# Create the CountVectorizer object\n",
    "vectorizer = CountVectorizer()\n",
    "\n",
    "# Fit and transform the documents\n",
    "X = vectorizer.fit_transform(documents)\n",
    "\n",
    "# Get the feature names (words)\n",
    "feature_names = vectorizer.get_feature_names_out()\n",
    "\n",
    "# Print the feature names\n",
    "print(\"Feature names:\", feature_names)\n",
    "\n",
    "# Print the document vectors\n",
    "print(\"Document vectors:\", X.toarray())\n"
   ]
  },
  {
   "cell_type": "code",
   "execution_count": 12,
   "metadata": {},
   "outputs": [
    {
     "name": "stdout",
     "output_type": "stream",
     "text": [
      "('I', 'love', 'to')\n",
      "('love', 'to', 'play')\n",
      "('to', 'play', 'football')\n"
     ]
    }
   ],
   "source": [
    "from nltk import ngrams\n",
    "\n",
    "# Example sentence\n",
    "sentence = \"I love to play football\"\n",
    "\n",
    "# Generate bigrams (n=2)\n",
    "trigrams = ngrams(sentence.split(), 3)\n",
    "\n",
    "# Print the bigrams\n",
    "for trigram in trigrams:\n",
    "    print(trigram)\n"
   ]
  }
 ],
 "metadata": {
  "kernelspec": {
   "display_name": "Python 3",
   "language": "python",
   "name": "python3"
  },
  "language_info": {
   "codemirror_mode": {
    "name": "ipython",
    "version": 3
   },
   "file_extension": ".py",
   "mimetype": "text/x-python",
   "name": "python",
   "nbconvert_exporter": "python",
   "pygments_lexer": "ipython3",
   "version": "3.12.1"
  }
 },
 "nbformat": 4,
 "nbformat_minor": 2
}
